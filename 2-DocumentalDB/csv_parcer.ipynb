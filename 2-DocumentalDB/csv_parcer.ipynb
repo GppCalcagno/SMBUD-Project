{
 "cells": [
  {
   "cell_type": "code",
   "execution_count": 1,
   "id": "d0ac2566",
   "metadata": {},
   "outputs": [],
   "source": [
    "import pandas as pd\n",
    "import json"
   ]
  },
  {
   "cell_type": "code",
   "execution_count": 2,
   "id": "29e887ca",
   "metadata": {},
   "outputs": [],
   "source": [
    "def del_none(d):\n",
    "    for key, value in list(d.items()):\n",
    "        if value is None:\n",
    "            del d[key]\n",
    "        elif isinstance(value, dict):\n",
    "            del_none(value)\n",
    "    return d"
   ]
  },
  {
   "cell_type": "code",
   "execution_count": 3,
   "id": "08277dfc",
   "metadata": {},
   "outputs": [],
   "source": [
    "pub_df = pd.read_csv(\"publications_tab.csv\",delimiter=\"\\t\")\n",
    "pub_j = pub_df.to_json(orient=\"records\")"
   ]
  },
  {
   "cell_type": "code",
   "execution_count": 4,
   "id": "11837af7",
   "metadata": {},
   "outputs": [],
   "source": [
    "pub_list = []\n",
    "for obj in json.loads(pub_j):\n",
    "    pub_list.append(del_none(obj))"
   ]
  },
  {
   "cell_type": "code",
   "execution_count": 5,
   "id": "9de1694a",
   "metadata": {},
   "outputs": [],
   "source": [
    "for obj in pub_list:\n",
    "    obj[\"authors\"] = []"
   ]
  },
  {
   "cell_type": "code",
   "execution_count": 6,
   "id": "6e45014d",
   "metadata": {},
   "outputs": [],
   "source": [
    "rel_pub = pd.read_csv(\"relationship.csv\", delimiter='|')\n",
    "aut_df = pd.read_csv(\"author.csv\", delimiter='|')\n",
    "\n",
    "rel_pub = pd.merge(rel_pub, aut_df, left_on=\"author_name\", right_on=\"name\")"
   ]
  },
  {
   "cell_type": "code",
   "execution_count": 9,
   "id": "a43d7647",
   "metadata": {},
   "outputs": [],
   "source": [
    "work_df = pd.read_csv(\"work_rel.csv\", delimiter='|')\n",
    "rel_pub = pd.merge(rel_pub, work_df, left_on=\"author_name\", right_on=\"name\")"
   ]
  },
  {
   "cell_type": "code",
   "execution_count": 10,
   "id": "66187358",
   "metadata": {},
   "outputs": [],
   "source": [
    "for index, row in rel_pub.iterrows():\n",
    "    doi = row[\"id\"]\n",
    "    for obj in pub_list:\n",
    "        if obj[\"id\"] == doi:\n",
    "            author = {}\n",
    "            author[\"name\"] = row[\"author_name\"]\n",
    "            author[\"orcid\"] = row[\"orcid\"]\n",
    "            author[\"affiliation\"] = row[\"univerity\"]\n",
    "            \n",
    "            obj[\"authors\"].append(author)"
   ]
  },
  {
   "cell_type": "code",
   "execution_count": 11,
   "id": "fc0357aa",
   "metadata": {},
   "outputs": [],
   "source": [
    "jour_df = pd.read_csv(\"journals_relationship.csv\", delimiter=\"|\")\n",
    "jour_df = jour_df.dropna()\n",
    "\n",
    "for index, row in jour_df.iterrows():\n",
    "    doi = row[\"id\"]\n",
    "    for obj in pub_list:\n",
    "        if obj[\"id\"] == doi:\n",
    "            obj[\"journal\"] = row[\"name\"]"
   ]
  },
  {
   "cell_type": "code",
   "execution_count": 12,
   "id": "da6e5ff4",
   "metadata": {},
   "outputs": [],
   "source": [
    "conf_df = pd.read_csv(\"conferences_relationship.csv\", delimiter=\"|\")\n",
    "conf_df = conf_df.dropna()\n",
    "\n",
    "for index, row in conf_df.iterrows():\n",
    "    doi = row[\"id\"]\n",
    "    for obj in pub_list:\n",
    "        if obj[\"id\"] == doi:\n",
    "            obj[\"conference\"] = row[\"name\"]"
   ]
  },
  {
   "cell_type": "code",
   "execution_count": 13,
   "id": "88ed257d",
   "metadata": {},
   "outputs": [],
   "source": [
    "publisher_df = pd.read_csv(\"publisher_relationship.csv\", delimiter=\"|\")\n",
    "publisher_df = publisher_df.dropna()\n",
    "\n",
    "for index, row in publisher_df.iterrows():\n",
    "    doi = row[\"id\"]\n",
    "    for obj in pub_list:\n",
    "        if obj[\"id\"] == doi:\n",
    "            obj[\"publisher\"] = row[\"name\"]"
   ]
  },
  {
   "cell_type": "code",
   "execution_count": 14,
   "id": "3baa379e",
   "metadata": {},
   "outputs": [],
   "source": [
    "with open('pub_wip.json', 'w') as f:\n",
    "    json.dump(pub_list, f, indent=2)"
   ]
  }
 ],
 "metadata": {
  "kernelspec": {
   "display_name": "Python 3 (ipykernel)",
   "language": "python",
   "name": "python3"
  },
  "language_info": {
   "codemirror_mode": {
    "name": "ipython",
    "version": 3
   },
   "file_extension": ".py",
   "mimetype": "text/x-python",
   "name": "python",
   "nbconvert_exporter": "python",
   "pygments_lexer": "ipython3",
   "version": "3.10.8"
  }
 },
 "nbformat": 4,
 "nbformat_minor": 5
}
