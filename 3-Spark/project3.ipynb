{
 "cells": [
  {
   "cell_type": "code",
   "execution_count": null,
   "metadata": {},
   "outputs": [],
   "source": [
    "import os\n",
    "from pyspark.sql import SparkSession"
   ]
  },
  {
   "cell_type": "code",
   "execution_count": null,
   "metadata": {},
   "outputs": [],
   "source": [
    "# Create an entry point to the PySpark Application\n",
    "spark = SparkSession.builder \\\n",
    "      .master(\"local\") \\\n",
    "      .appName(\"Project3\") \\\n",
    "      .getOrCreate()"
   ]
  },
  {
   "cell_type": "code",
   "execution_count": null,
   "metadata": {},
   "outputs": [],
   "source": [
    "# Path of the directory with all the csv files\n",
    "path = \"DATASETH_PATH\"\n",
    "path_of_the_directory = str(path)\n",
    "\n",
    "dataset = {}\n",
    "\n",
    "for filename in os.listdir(path_of_the_directory):\n",
    "    f = os.path.join(path_of_the_directory,filename)\n",
    "    if os.path.isfile(f):\n",
    "\n",
    "        # Load a DataFrame for each csv file\n",
    "        df = spark.read.option(\"header\", True).option(\"delimiter\", \"|\") \\\n",
    "            .option(\"inferSchema\",True).csv(f)\n",
    "        \n",
    "        # Create a dictionary where key=filename and value=dataframe\n",
    "        dataset[filename.split(\".\")[0]] = df    #split is used to get only the filename without extension\n",
    "        "
   ]
  },
  {
   "cell_type": "code",
   "execution_count": null,
   "metadata": {},
   "outputs": [],
   "source": [
    "for key,df in dataset.items():\n",
    "    print(\"NAME OF THE KEY: \" + str(key))\n",
    "    df.printSchema()\n",
    "    df.show(2)\n",
    "    print(\"/------------------------------------------------------------/\\n\")"
   ]
  },
  {
   "cell_type": "markdown",
   "metadata": {},
   "source": [
    "<h2>Queries</h2>"
   ]
  },
  {
   "cell_type": "code",
   "execution_count": null,
   "metadata": {},
   "outputs": [],
   "source": [
    "# import functions\n",
    "from pyspark.sql.functions import *"
   ]
  },
  {
   "cell_type": "markdown",
   "metadata": {},
   "source": [
    "<h3>Query 1</h3>\n",
    "<ul>\n",
    "Compute the average age of the publication's authors with the following limitations:\n",
    "<li>Exclude the authors born in December(12) from the computation.</li>\n",
    "<li>Exclude the publications with authors (not born in December) whose sum of age is out of the range [275,500].</li>\n",
    "</ul>\n"
   ]
  },
  {
   "cell_type": "code",
   "execution_count": null,
   "metadata": {},
   "outputs": [],
   "source": [
    "dataset[\"write_relationship\"].join(dataset[\"publications\"],dataset[\"write_relationship\"].pub_id == dataset[\"publications\"].id,\"inner\") \\\n",
    ".drop(\"pub_id\",\"author_order\",\"isbn\",\"year\",\"pages\",\"publisher\",\"doc_type\") \\\n",
    ".join(dataset[\"authors\"],dataset[\"write_relationship\"].author_name == dataset[\"authors\"].author_name,\"inner\") \\\n",
    ".filter(dataset[\"authors\"].month_of_birth != 12) \\\n",
    ".withColumn(\"age\", year(current_date()) - dataset[\"authors\"].year_of_birth) \\\n",
    ".groupBy(\"id\", \"title\") \\\n",
    ".agg(avg(\"age\").alias(\"average_age\"), sum(\"age\").alias(\"sum_of_age\")) \\\n",
    ".filter((col(\"sum_of_age\") > 275) & (col(\"sum_of_age\") < 500)) \\\n",
    ".sort(col(\"sum_of_age\").asc(), col(\"average_age\").asc()) \\\n",
    ".show(5, truncate=False)"
   ]
  },
  {
   "cell_type": "markdown",
   "metadata": {},
   "source": [
    "<h3>Query 2</h3>\n",
    "<p>Count the number of publications that contain in the title the word \"machine\".</p>"
   ]
  },
  {
   "cell_type": "code",
   "execution_count": null,
   "metadata": {},
   "outputs": [],
   "source": [
    "dataset[\"publications\"].filter(col(\"title\").contains(\"machine\")) \\\n",
    ".groupBy() \\\n",
    ".agg(count(\"id\").alias(\"Number Of Publications\"),) \\\n",
    ".show(truncate=False)"
   ]
  },
  {
   "cell_type": "markdown",
   "metadata": {},
   "source": [
    "<h3>Query 3</h3>\n",
    "<p>Authors ordered by number of written publications.</p>"
   ]
  },
  {
   "cell_type": "code",
   "execution_count": null,
   "metadata": {},
   "outputs": [],
   "source": [
    "dataset[\"authors\"].join(dataset[\"write_relationship\"],[\"author_name\"],\"left\") \\\n",
    ".groupBy(\"author_name\") \\\n",
    ".agg(count(\"pub_id\").alias(\"Number Of Publications\")) \\\n",
    ".sort(col(\"Number Of Publications\").desc()) \\\n",
    ".show(5)"
   ]
  },
  {
   "cell_type": "markdown",
   "metadata": {},
   "source": [
    "<h3>Query 4</h3>\n",
    "<p>Top-10 books ordered by number of keywords.</p>"
   ]
  },
  {
   "cell_type": "code",
   "execution_count": null,
   "metadata": {},
   "outputs": [],
   "source": [
    "df_group_count = dataset[\"publications\"].filter(dataset[\"publications\"].doc_type == \"book\") \\\n",
    ".join(dataset[\"keywords\"], dataset[\"publications\"].id == dataset[\"keywords\"].pubID, \"inner\") \\\n",
    ".groupBy(\"id\", \"title\") \\\n",
    ".agg(count(\"keyword\").alias(\"Number of keywords\")) \\\n",
    ".sort(col(\"Number of keywords\").desc()) \\\n",
    ".limit(10) \\\n",
    ".show()"
   ]
  },
  {
   "attachments": {},
   "cell_type": "markdown",
   "metadata": {},
   "source": [
    "<h3>Query 5</h3>\n",
    "<p>The number of publications written by authors with a Polimi email grouped by year, starting from 2010.</p>"
   ]
  },
  {
   "cell_type": "code",
   "execution_count": null,
   "metadata": {},
   "outputs": [],
   "source": [
    "# Collect into an array all the authors with a Polimi email\n",
    "polimi_authors = dataset[\"authors\"].filter(col(\"mail\").rlike(\"polimi\")) \\\n",
    "    .select(collect_set(\"author_name\")) \\\n",
    "    .collect()[0][0]\n",
    " \n",
    "dataset[\"publications\"].join(dataset[\"write_relationship\"], dataset[\"publications\"].id == dataset[\"write_relationship\"].pub_id) \\\n",
    ".filter(col(\"author_name\").isin(polimi_authors) & (col(\"year\") >= \"2010\")) \\\n",
    ".groupBy(\"year\") \\\n",
    ".agg(countDistinct(\"title\").alias(\"Number of publications\")) \\\n",
    ".sort(col(\"Number of publications\").desc()) \\\n",
    ".show()"
   ]
  },
  {
   "cell_type": "markdown",
   "metadata": {},
   "source": [
    "<h3>Query 6</h3>\n",
    "<p>Find the top-10 countries ordered by the average number of pages written in the 90'. </br>\n",
    "Countries with less than 10 written publications are excluded.</p>"
   ]
  },
  {
   "cell_type": "code",
   "execution_count": null,
   "metadata": {},
   "outputs": [],
   "source": [
    "dataset['publications'].join(dataset['write_relationship'], dataset['publications'].id == dataset['write_relationship'].pub_id, 'inner') \\\n",
    ".drop('author_order', 'isbn', 'publisher', 'doc_type') \\\n",
    ".join(dataset['authors'], dataset['write_relationship'].author_name == dataset['authors'].author_name, 'inner') \\\n",
    ".drop('orcid', 'month_of_birth', 'year_of_birth', 'mail') \\\n",
    ".join(dataset['work_relationship'], dataset['authors'].author_name == dataset['work_relationship'].author_name, 'inner') \\\n",
    ".join(dataset['institutions'], dataset['work_relationship'].university == dataset['institutions'].institution, 'inner') \\\n",
    ".drop('world_rank', 'institution', 'national_rank') \\\n",
    ".filter( (dataset['publications'].year >= '1990') & (dataset['publications'].year < '2000') ) \\\n",
    ".groupBy('country') \\\n",
    ".agg(avg('pages').alias('average number of pages'), countDistinct('id').alias('different publications')) \\\n",
    ".filter( col('different publications') >= 10) \\\n",
    ".sort(col('average number of pages').desc()) \\\n",
    ".limit(10) \\\n",
    ".show()"
   ]
  },
  {
   "cell_type": "markdown",
   "metadata": {},
   "source": [
    "<h3>Query 7</h3>\n",
    "<p>Find 3 authors who have written a book when they were 50 years old.</p>"
   ]
  },
  {
   "cell_type": "code",
   "execution_count": null,
   "metadata": {},
   "outputs": [],
   "source": [
    "dataset['publications'].join(dataset['write_relationship'], dataset['publications'].id == dataset['write_relationship'].pub_id, 'left') \\\n",
    ".drop('title', 'id', 'pages', 'author_order', 'isbn', 'publisher') \\\n",
    ".join(dataset['authors'], ['author_name']) \\\n",
    ".drop('orcid', 'month_of_birth', 'mail', 'pub_id') \\\n",
    ".withColumn('years difference', (col('year') - col('year_of_birth'))) \\\n",
    ".filter((col('years difference') == 50) & (col('doc_type') == 'book')) \\\n",
    ".limit(3) \\\n",
    ".show()"
   ]
  },
  {
   "cell_type": "markdown",
   "metadata": {},
   "source": [
    "<h3>Query 8</h3>\n",
    "<p>PoliMi authors who have written at least 10 publications.</p>"
   ]
  },
  {
   "cell_type": "code",
   "execution_count": null,
   "metadata": {},
   "outputs": [],
   "source": [
    "authors_df = dataset[\"authors\"].withColumnRenamed('author_name', 'name') \\\n",
    ".filter(col(\"mail\").like(\"%polimi.it\")) \\\n",
    ".join(dataset['write_relationship'], dataset['write_relationship'].author_name == col('name'), 'inner') \\\n",
    ".groupBy('name') \\\n",
    ".agg(count(\"pub_id\").alias(\"num_publications_written\")) \\\n",
    ".filter(col(\"num_publications_written\") >= 10) \\\n",
    ".sort(col(\"num_publications_written\").desc()) \\\n",
    ".show(10, truncate = False)"
   ]
  },
  {
   "cell_type": "markdown",
   "metadata": {},
   "source": [
    "<h3>Query 9</h3>\n",
    "<p>Find top 10 articles edited by youngest group of editors.</p>"
   ]
  },
  {
   "cell_type": "code",
   "execution_count": null,
   "metadata": {},
   "outputs": [],
   "source": [
    "editors_df = dataset[\"editor_authors\"].withColumnRenamed('editor_name', 'name')\n",
    " \n",
    "df_group_count = dataset[\"publications\"] \\\n",
    ".filter(dataset[\"publications\"].doc_type == \"article\") \\\n",
    ".join(dataset[\"editor_authors_relationship\"], dataset[\"editor_authors_relationship\"].doi == dataset[\"publications\"].id, \"left\") \\\n",
    ".join(editors_df, editors_df.name == dataset[\"editor_authors_relationship\"].editor_name, \"left\") \\\n",
    ".groupBy(\"doi\") \\\n",
    ".agg(count(\"doi\").alias(\"num_editors\"), round(avg(year(current_date()) - col(\"year_of_birth\")), 1).alias(\"avg_age\"),) \\\n",
    ".sort(col(\"avg_age\").asc_nulls_last()) \\\n",
    ".show(10, truncate = True)"
   ]
  },
  {
   "cell_type": "markdown",
   "metadata": {},
   "source": [
    "<h3>Query 10</h3>\n",
    "<p>Compound keywords (e.g. Agent-Based) associated to more than 2 publications.</p>"
   ]
  },
  {
   "cell_type": "code",
   "execution_count": null,
   "metadata": {},
   "outputs": [],
   "source": [
    "dataset['keywords'].filter(col(\"keyword\").like(\"%-%\")) \\\n",
    ".groupBy(\"keyword\") \\\n",
    ".agg(count(\"keyword\").alias(\"num of publications\")) \\\n",
    ".filter(col(\"num of publications\") > 2) \\\n",
    ".sort(\"num of publications\") \\\n",
    ".show(truncate=False)"
   ]
  },
  {
   "cell_type": "markdown",
   "metadata": {},
   "source": [
    "<h3>Query 11</h3>\n",
    "<p>Find authors who have written 3 books and who are also editors of 3 publications.</p>"
   ]
  },
  {
   "cell_type": "code",
   "execution_count": null,
   "metadata": {},
   "outputs": [],
   "source": [
    "# Authors who have written 3 books\n",
    "list_authors = \\\n",
    "    dataset['write_relationship'].join(dataset['publications'], dataset['write_relationship'].pub_id == dataset['publications'].id, \"inner\") \\\n",
    "    .filter(col(\"doc_type\") == \"book\") \\\n",
    "    .groupBy(\"author_name\").count() \\\n",
    "    .filter(col(\"count\") == 3) \\\n",
    "    .select(collect_set(\"author_name\")).collect()[0][0]\n",
    " \n",
    "# Authors who have written 3 books and edited 3 publications\n",
    "dataset['editor_authors_relationship'].groupBy(\"editor_name\").count() \\\n",
    ".filter(col(\"count\") == 3) \\\n",
    ".filter(col(\"editor_name\").isin(list_authors)) \\\n",
    ".select(col(\"editor_name\").alias(\"author/editor\")) \\\n",
    ".show()"
   ]
  },
  {
   "cell_type": "markdown",
   "metadata": {},
   "source": [
    "<h3>Query 12</h3>\n",
    "<p>Authors under 40 of USA institutions who have written at least 5 publications.</p>"
   ]
  },
  {
   "cell_type": "code",
   "execution_count": null,
   "metadata": {},
   "outputs": [],
   "source": [
    "dataset['authors'].withColumn(\"age\", year(current_date()) - dataset['authors'].year_of_birth) \\\n",
    ".filter(col(\"age\") < 40) \\\n",
    ".join(dataset['work_relationship'], dataset['authors'].author_name == dataset['work_relationship'].author_name, \"inner\") \\\n",
    ".join(dataset['institutions'], dataset['work_relationship'].university == dataset['institutions'].institution, \"inner\") \\\n",
    ".filter(dataset['institutions'].country == \"USA\") \\\n",
    ".join(dataset['write_relationship'], dataset['work_relationship'].author_name == dataset['write_relationship'].author_name, \"inner\") \\\n",
    ".groupBy(dataset['write_relationship'].author_name, \"university\", \"country\", \"age\").count().withColumnRenamed(\"count\", \"num of publications\") \\\n",
    ".filter(col(\"num of publications\") >= 5) \\\n",
    ".sort(col(\"num of publications\").desc()) \\\n",
    ".show(truncate=False)"
   ]
  },
  {
   "cell_type": "markdown",
   "metadata": {},
   "source": [
    "<h2>Insert/update/delete</h2>"
   ]
  },
  {
   "cell_type": "code",
   "execution_count": null,
   "metadata": {},
   "outputs": [],
   "source": [
    "from pyspark.sql.types import StructType, StructField, IntegerType, StringType"
   ]
  },
  {
   "attachments": {},
   "cell_type": "markdown",
   "metadata": {},
   "source": [
    "<h3>Insert a new author</h3>"
   ]
  },
  {
   "cell_type": "code",
   "execution_count": null,
   "metadata": {},
   "outputs": [],
   "source": [
    "schema = StructType([ \\\n",
    "    StructField(\"author_name\", StringType(), True), \\\n",
    "    StructField(\"orcid\", StringType(), True), \\\n",
    "    StructField(\"month_of_birth\", IntegerType(), True), \\\n",
    "    StructField(\"year_of_birth\", IntegerType(), True), \\\n",
    "    StructField(\"mail\", StringType(), True) \\\n",
    "])\n",
    "\n",
    "print(\"Before Add\")\n",
    "dataset[\"authors\"].filter(col(\"orcid\")==\"3414-5303-4227-4420\").show()\n",
    "\n",
    "df_data= [(\"Name\",\"3414-5303-4227-4420\",3,1999,\"assignment@mail.polimi.it\")]\n",
    "newRow = spark.createDataFrame(data = df_data, schema = schema)\n",
    "dataset[\"authors\"] = dataset[\"authors\"].union(newRow)\n",
    "\n",
    "print(\"After Add\")\n",
    "dataset[\"authors\"].filter(col(\"orcid\")==\"3414-5303-4227-4420\").show()"
   ]
  },
  {
   "attachments": {},
   "cell_type": "markdown",
   "metadata": {},
   "source": [
    "<h3>Update the year of birth of an author</h3>"
   ]
  },
  {
   "cell_type": "code",
   "execution_count": null,
   "metadata": {},
   "outputs": [],
   "source": [
    "# Previous row\n",
    "print(\"Before the update\\n\")\n",
    "dataset[\"authors\"].filter(dataset[\"authors\"].author_name == \"Gilles Guette\") \\\n",
    "                    .show()\n",
    "\n",
    "# Updated row\n",
    "print(\"\\nAfter the update\\n\")\n",
    "dataset[\"authors\"].withColumn(\"year_of_birth\", when(dataset[\"authors\"].author_name == \"Gilles Guette\", \"1999\") \\\n",
    ".otherwise(col(\"year_of_birth\"))) \\\n",
    ".filter(dataset[\"authors\"].author_name == \"Gilles Guette\") \\\n",
    ".show()"
   ]
  },
  {
   "attachments": {},
   "cell_type": "markdown",
   "metadata": {},
   "source": [
    "<h3>Insert a new publication</h3>"
   ]
  },
  {
   "cell_type": "code",
   "execution_count": null,
   "metadata": {},
   "outputs": [],
   "source": [
    "schema = StructType([ \\\n",
    "    StructField(\"id\", StringType(), True), \\\n",
    "    StructField(\"title\", StringType(), True), \\\n",
    "    StructField(\"year\", IntegerType(), True), \\\n",
    "    StructField(\"pages\", IntegerType(), True), \\\n",
    "    StructField(\"isbn\", StringType(), True), \\\n",
    "    StructField(\"doc_type\", StringType(), True) \\\n",
    "])\n",
    " \n",
    "df_data = [(\"1111-2222-3333-4444\", \"Publication title\", 2022, 300, \"abcdef\", \"book\")]\n",
    "new_pub = spark.createDataFrame(data = df_data, schema = schema)\n",
    "\n",
    "print(\"Before insert\")\n",
    "dataset['publications'].filter(col(\"title\") == \"Publication title\").show(truncate=False)\n",
    "\n",
    "# Insert a new publication\n",
    "dataset['publications'] = dataset['publications'].union(new_pub)\n",
    "\n",
    "print(\"After insert\")\n",
    "dataset['publications'].filter(col(\"title\") == \"Publication title\").show(truncate=False)"
   ]
  },
  {
   "attachments": {},
   "cell_type": "markdown",
   "metadata": {},
   "source": [
    "<h3>Update PoliMi emails from \"@mail.polimi.it\" to \"@polimi.it\"</h3>"
   ]
  },
  {
   "cell_type": "code",
   "execution_count": null,
   "metadata": {},
   "outputs": [],
   "source": [
    "print(\"Before update\")\n",
    "dataset[\"authors\"].filter(col(\"mail\").like(\"%polimi.it\")).show(2)\n",
    "\n",
    "dataset[\"authors\"] = dataset[\"authors\"] \\\n",
    "    .withColumn('mail', when(col(\"mail\").like(\"%@mail.polimi.it\"), concat(split(col(\"mail\"), '@')[0], \n",
    "        lit('@polimi.it'))) \\\n",
    "    .otherwise(col('mail')))\n",
    "\n",
    "print(\"After update\")\n",
    "dataset[\"authors\"].filter(col(\"mail\").like(\"%polimi.it\")).show(2)"
   ]
  },
  {
   "attachments": {},
   "cell_type": "markdown",
   "metadata": {},
   "source": [
    "<h3>Remove a publication</h3>"
   ]
  },
  {
   "cell_type": "code",
   "execution_count": null,
   "metadata": {},
   "outputs": [],
   "source": [
    "print(\"Before the remove\\n\")\n",
    "dataset[\"publications\"].filter(dataset[\"publications\"].id == \"https://d-nb.info/960448683\").show()\n",
    " \n",
    "# Removing the row\n",
    "dataset[\"publications\"] = dataset[\"publications\"].where(dataset[\"publications\"].id != \"https://d-nb.info/960448683\")\n",
    "\n",
    "print(\"\\nAfter the remove\\n\")\n",
    "dataset[\"publications\"].filter(dataset[\"publications\"].id == \"https://d-nb.info/960448683\").show()"
   ]
  }
 ],
 "metadata": {
  "kernelspec": {
   "display_name": "Python 3.9.11 64-bit",
   "language": "python",
   "name": "python3"
  },
  "language_info": {
   "codemirror_mode": {
    "name": "ipython",
    "version": 3
   },
   "file_extension": ".py",
   "mimetype": "text/x-python",
   "name": "python",
   "nbconvert_exporter": "python",
   "pygments_lexer": "ipython3",
   "version": "3.9.11"
  },
  "orig_nbformat": 4,
  "vscode": {
   "interpreter": {
    "hash": "ea6444e27b565ea52a9bd06978648f72ff73dcc00b100d77c28a62c2fc5ad47d"
   }
  }
 },
 "nbformat": 4,
 "nbformat_minor": 2
}
